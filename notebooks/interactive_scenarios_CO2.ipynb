{
 "cells": [
  {
   "cell_type": "markdown",
   "id": "d0e3f04d",
   "metadata": {},
   "source": [
    "# Interactive Scenarios"
   ]
  },
  {
   "cell_type": "code",
   "execution_count": 1,
   "id": "572b3af8",
   "metadata": {},
   "outputs": [],
   "source": [
    "import numpy as np\n",
    "import pandas as pd\n",
    "import matplotlib.pyplot as plt\n",
    "from matplotlib.colors import to_rgb\n",
    "import plotly.graph_objects as go"
   ]
  },
  {
   "cell_type": "markdown",
   "id": "beede509",
   "metadata": {},
   "source": [
    "### Load CO2 data"
   ]
  },
  {
   "cell_type": "code",
   "execution_count": 13,
   "id": "1090c13f",
   "metadata": {},
   "outputs": [],
   "source": [
    "hist = pd.read_csv('CO2_data/historical_annual_carbon_1900_2014.csv')\n",
    "# pd.read_csv('CO2_data/historical_annual_carbon_V2.csv')\n",
    "ssp = pd.read_excel('CO2_data/future_SSP_scenarios.xlsx', header=1)"
   ]
  },
  {
   "cell_type": "code",
   "execution_count": 222,
   "id": "f512a412",
   "metadata": {},
   "outputs": [],
   "source": [
    "# x-axis: Timespan\n",
    "timespan_hist = pd.to_datetime(hist['#Net annual CO2 emissions in GtCO2'].values, format='%Y')\n",
    "timespan_proj = pd.to_datetime(ssp.Year.values, format='%Y')\n",
    "\n",
    "# Create scenarios and historical\n",
    "historical = hist['Unnamed: 1'].values\n",
    "ssp126 = ssp['SSP1.26']\n",
    "ssp245 = ssp['SSP2.45']\n",
    "ssp370 = ssp['SSP3.70']\n",
    "ssp585 = ssp['SSP5.85']\n",
    "\n",
    "# Extrapolate historical data to start at same time as projections\n",
    "timespan_hist = pd.date_range(timespan_hist[0], timespan_proj[0], freq='Y')\n",
    "historical = np.append(historical, ssp126[0])"
   ]
  },
  {
   "cell_type": "markdown",
   "id": "183a8da0",
   "metadata": {},
   "source": [
    "### Now create figure with plotly interactions. There should be buttons to select different scenarios"
   ]
  },
  {
   "cell_type": "code",
   "execution_count": 230,
   "id": "608f6ff5",
   "metadata": {
    "scrolled": true
   },
   "outputs": [],
   "source": [
    "# Plotly likes rgb values for colors when using alpha. This function produces an rgb string from string colors\n",
    "# and alpha values\n",
    "def c_alpha(c, alpha):\n",
    "    return \"rgba\" + str((*to_rgb(c), alpha))\n"
   ]
  },
  {
   "cell_type": "code",
   "execution_count": 267,
   "id": "95bc9e50",
   "metadata": {
    "scrolled": false
   },
   "outputs": [
    {
     "data": {
      "application/vnd.plotly.v1+json": {
       "config": {
        "plotlyServerURL": "https://plot.ly"
       },
       "data": [
        {
         "hovertemplate": "SSP1.26",
         "line": {
          "color": "blue",
          "width": 4
         },
         "mode": "lines",
         "name": "SSP1.26",
         "type": "scatter",
         "x": [
          "2015-01-01T00:00:00",
          "2020-01-01T00:00:00",
          "2030-01-01T00:00:00",
          "2040-01-01T00:00:00",
          "2050-01-01T00:00:00",
          "2060-01-01T00:00:00",
          "2070-01-01T00:00:00",
          "2080-01-01T00:00:00",
          "2090-01-01T00:00:00",
          "2100-01-01T00:00:00"
         ],
         "y": [
          34.8783942878675,
          35.8594037972893,
          33.7809608992212,
          26.1316359975354,
          18.9925639728212,
          12.4213444642784,
          6.39938789268139,
          -1.41846309539267,
          -6.78202578929995,
          -6.19078752918513
         ]
        },
        {
         "hovertemplate": "SSP2.45",
         "line": {
          "color": "skyblue",
          "width": 4
         },
         "mode": "lines",
         "name": "SSP2.45",
         "type": "scatter",
         "x": [
          "2015-01-01T00:00:00",
          "2020-01-01T00:00:00",
          "2030-01-01T00:00:00",
          "2040-01-01T00:00:00",
          "2050-01-01T00:00:00",
          "2060-01-01T00:00:00",
          "2070-01-01T00:00:00",
          "2080-01-01T00:00:00",
          "2090-01-01T00:00:00",
          "2100-01-01T00:00:00"
         ],
         "y": [
          34.8783942878675,
          36.4834303904359,
          39.3813662501233,
          40.689620763729,
          41.4331244595126,
          40.1202449283436,
          35.5532353588736,
          28.099628976397,
          18.4992531850896,
          12.5889687149949
         ]
        },
        {
         "hovertemplate": "SSP3.70",
         "line": {
          "color": "goldenrod",
          "width": 4
         },
         "mode": "lines",
         "name": "SSP3.70",
         "type": "scatter",
         "x": [
          "2015-01-01T00:00:00",
          "2020-01-01T00:00:00",
          "2030-01-01T00:00:00",
          "2040-01-01T00:00:00",
          "2050-01-01T00:00:00",
          "2060-01-01T00:00:00",
          "2070-01-01T00:00:00",
          "2080-01-01T00:00:00",
          "2090-01-01T00:00:00",
          "2100-01-01T00:00:00"
         ],
         "y": [
          34.8783942878675,
          39.977471023829,
          47.982177061312,
          53.619648573831,
          57.9717985607852,
          61.0708544003816,
          64.3030611433373,
          67.5192538749212,
          72.0390121823788,
          76.7202854247436
         ]
        },
        {
         "hovertemplate": "SSP5.85",
         "line": {
          "color": "red",
          "width": 4
         },
         "mode": "lines",
         "name": "SSP5.85",
         "type": "scatter",
         "x": [
          "2015-01-01T00:00:00",
          "2020-01-01T00:00:00",
          "2030-01-01T00:00:00",
          "2040-01-01T00:00:00",
          "2050-01-01T00:00:00",
          "2060-01-01T00:00:00",
          "2070-01-01T00:00:00",
          "2080-01-01T00:00:00",
          "2090-01-01T00:00:00",
          "2100-01-01T00:00:00"
         ],
         "y": [
          34.8783942878675,
          38.8762395974145,
          49.5328347369858,
          63.6207149184434,
          79.1236259371774,
          97.7180346667579,
          114.365803986902,
          126.806567507177,
          127.748595443224,
          124.272417558379
         ]
        },
        {
         "hovertemplate": "historical",
         "line": {
          "color": "black",
          "width": 4
         },
         "mode": "lines",
         "name": "historical",
         "type": "scatter",
         "x": [
          "1900-12-31T00:00:00",
          "1901-12-31T00:00:00",
          "1902-12-31T00:00:00",
          "1903-12-31T00:00:00",
          "1904-12-31T00:00:00",
          "1905-12-31T00:00:00",
          "1906-12-31T00:00:00",
          "1907-12-31T00:00:00",
          "1908-12-31T00:00:00",
          "1909-12-31T00:00:00",
          "1910-12-31T00:00:00",
          "1911-12-31T00:00:00",
          "1912-12-31T00:00:00",
          "1913-12-31T00:00:00",
          "1914-12-31T00:00:00",
          "1915-12-31T00:00:00",
          "1916-12-31T00:00:00",
          "1917-12-31T00:00:00",
          "1918-12-31T00:00:00",
          "1919-12-31T00:00:00",
          "1920-12-31T00:00:00",
          "1921-12-31T00:00:00",
          "1922-12-31T00:00:00",
          "1923-12-31T00:00:00",
          "1924-12-31T00:00:00",
          "1925-12-31T00:00:00",
          "1926-12-31T00:00:00",
          "1927-12-31T00:00:00",
          "1928-12-31T00:00:00",
          "1929-12-31T00:00:00",
          "1930-12-31T00:00:00",
          "1931-12-31T00:00:00",
          "1932-12-31T00:00:00",
          "1933-12-31T00:00:00",
          "1934-12-31T00:00:00",
          "1935-12-31T00:00:00",
          "1936-12-31T00:00:00",
          "1937-12-31T00:00:00",
          "1938-12-31T00:00:00",
          "1939-12-31T00:00:00",
          "1940-12-31T00:00:00",
          "1941-12-31T00:00:00",
          "1942-12-31T00:00:00",
          "1943-12-31T00:00:00",
          "1944-12-31T00:00:00",
          "1945-12-31T00:00:00",
          "1946-12-31T00:00:00",
          "1947-12-31T00:00:00",
          "1948-12-31T00:00:00",
          "1949-12-31T00:00:00",
          "1950-12-31T00:00:00",
          "1951-12-31T00:00:00",
          "1952-12-31T00:00:00",
          "1953-12-31T00:00:00",
          "1954-12-31T00:00:00",
          "1955-12-31T00:00:00",
          "1956-12-31T00:00:00",
          "1957-12-31T00:00:00",
          "1958-12-31T00:00:00",
          "1959-12-31T00:00:00",
          "1960-12-31T00:00:00",
          "1961-12-31T00:00:00",
          "1962-12-31T00:00:00",
          "1963-12-31T00:00:00",
          "1964-12-31T00:00:00",
          "1965-12-31T00:00:00",
          "1966-12-31T00:00:00",
          "1967-12-31T00:00:00",
          "1968-12-31T00:00:00",
          "1969-12-31T00:00:00",
          "1970-12-31T00:00:00",
          "1971-12-31T00:00:00",
          "1972-12-31T00:00:00",
          "1973-12-31T00:00:00",
          "1974-12-31T00:00:00",
          "1975-12-31T00:00:00",
          "1976-12-31T00:00:00",
          "1977-12-31T00:00:00",
          "1978-12-31T00:00:00",
          "1979-12-31T00:00:00",
          "1980-12-31T00:00:00",
          "1981-12-31T00:00:00",
          "1982-12-31T00:00:00",
          "1983-12-31T00:00:00",
          "1984-12-31T00:00:00",
          "1985-12-31T00:00:00",
          "1986-12-31T00:00:00",
          "1987-12-31T00:00:00",
          "1988-12-31T00:00:00",
          "1989-12-31T00:00:00",
          "1990-12-31T00:00:00",
          "1991-12-31T00:00:00",
          "1992-12-31T00:00:00",
          "1993-12-31T00:00:00",
          "1994-12-31T00:00:00",
          "1995-12-31T00:00:00",
          "1996-12-31T00:00:00",
          "1997-12-31T00:00:00",
          "1998-12-31T00:00:00",
          "1999-12-31T00:00:00",
          "2000-12-31T00:00:00",
          "2001-12-31T00:00:00",
          "2002-12-31T00:00:00",
          "2003-12-31T00:00:00",
          "2004-12-31T00:00:00",
          "2005-12-31T00:00:00",
          "2006-12-31T00:00:00",
          "2007-12-31T00:00:00",
          "2008-12-31T00:00:00",
          "2009-12-31T00:00:00",
          "2010-12-31T00:00:00",
          "2011-12-31T00:00:00",
          "2012-12-31T00:00:00",
          "2013-12-31T00:00:00",
          "2014-12-31T00:00:00"
         ],
         "y": [
          1.78526695,
          1.844976625,
          1.899257177,
          2.071730149,
          2.103328364,
          2.239369726,
          2.356415855,
          2.658481167,
          2.571462794,
          2.666965954,
          2.799849298,
          2.855589757,
          2.997982795,
          3.252015919,
          2.965944274,
          2.934525424,
          3.162224306,
          3.276466942,
          3.242731295,
          2.85215286,
          3.297923147,
          2.897427404,
          3.078869911,
          3.500453083,
          3.53955507,
          3.587408887,
          3.541446908,
          3.907426694,
          3.922027868,
          4.215329874,
          3.908218255,
          3.526798226,
          3.203977752,
          3.359883358,
          3.641417664,
          3.821902325,
          4.184272144,
          4.475909321,
          4.221331565,
          4.480114271,
          4.84306084,
          4.932389724,
          4.94012265,
          5.098044129,
          5.036884865,
          4.279821699,
          4.691534555,
          5.256431128,
          5.586329467,
          5.490005486,
          6.141133151,
          6.579795332,
          6.701449213,
          6.893920649,
          7.0702932,
          7.732242079,
          8.281273829,
          8.620862,
          8.916429545,
          9.409786854,
          9.865942729,
          9.940457042,
          10.35244989,
          10.95695286,
          11.52297013,
          12.05458682,
          12.6216722,
          13.04528674,
          13.77929438,
          14.59638503,
          15.54497202,
          16.21258178,
          16.91766808,
          17.88955515,
          17.80166237,
          17.71835481,
          18.69417275,
          19.29646555,
          20.08099845,
          20.61090665,
          20.31630204,
          19.91621696,
          19.68648019,
          19.70206501,
          20.17398317,
          20.38025258,
          20.74297461,
          21.29984984,
          21.97824174,
          22.24086329,
          22.14460593,
          22.17386672,
          22.00727782,
          22.1802648,
          22.32917141,
          22.8200609,
          23.28620155,
          23.49624076,
          23.54085143,
          23.77870183,
          24.60124832,
          24.85093152,
          25.3618076,
          26.56146888,
          27.94452685,
          28.94981112,
          29.91454282,
          31.08279556,
          31.28624594,
          30.78720429,
          32.18834073,
          33.19668336,
          33.66847976,
          34.66098792,
          34.87806359,
          34.8783942878675
         ]
        }
       ],
       "layout": {
        "font": {
         "size": 14
        },
        "height": 550,
        "legend": {
         "itemclick": false,
         "itemdoubleclick": false
        },
        "shapes": [
         {
          "type": "line",
          "x0": "2015-01-01T00:00:00",
          "x1": "2015-01-01T00:00:00",
          "xref": "x",
          "y0": 0,
          "y1": 1,
          "yref": "y domain"
         }
        ],
        "template": {
         "data": {
          "bar": [
           {
            "error_x": {
             "color": "#2a3f5f"
            },
            "error_y": {
             "color": "#2a3f5f"
            },
            "marker": {
             "line": {
              "color": "white",
              "width": 0.5
             }
            },
            "type": "bar"
           }
          ],
          "barpolar": [
           {
            "marker": {
             "line": {
              "color": "white",
              "width": 0.5
             }
            },
            "type": "barpolar"
           }
          ],
          "carpet": [
           {
            "aaxis": {
             "endlinecolor": "#2a3f5f",
             "gridcolor": "#C8D4E3",
             "linecolor": "#C8D4E3",
             "minorgridcolor": "#C8D4E3",
             "startlinecolor": "#2a3f5f"
            },
            "baxis": {
             "endlinecolor": "#2a3f5f",
             "gridcolor": "#C8D4E3",
             "linecolor": "#C8D4E3",
             "minorgridcolor": "#C8D4E3",
             "startlinecolor": "#2a3f5f"
            },
            "type": "carpet"
           }
          ],
          "choropleth": [
           {
            "colorbar": {
             "outlinewidth": 0,
             "ticks": ""
            },
            "type": "choropleth"
           }
          ],
          "contour": [
           {
            "colorbar": {
             "outlinewidth": 0,
             "ticks": ""
            },
            "colorscale": [
             [
              0,
              "#0d0887"
             ],
             [
              0.1111111111111111,
              "#46039f"
             ],
             [
              0.2222222222222222,
              "#7201a8"
             ],
             [
              0.3333333333333333,
              "#9c179e"
             ],
             [
              0.4444444444444444,
              "#bd3786"
             ],
             [
              0.5555555555555556,
              "#d8576b"
             ],
             [
              0.6666666666666666,
              "#ed7953"
             ],
             [
              0.7777777777777778,
              "#fb9f3a"
             ],
             [
              0.8888888888888888,
              "#fdca26"
             ],
             [
              1,
              "#f0f921"
             ]
            ],
            "type": "contour"
           }
          ],
          "contourcarpet": [
           {
            "colorbar": {
             "outlinewidth": 0,
             "ticks": ""
            },
            "type": "contourcarpet"
           }
          ],
          "heatmap": [
           {
            "colorbar": {
             "outlinewidth": 0,
             "ticks": ""
            },
            "colorscale": [
             [
              0,
              "#0d0887"
             ],
             [
              0.1111111111111111,
              "#46039f"
             ],
             [
              0.2222222222222222,
              "#7201a8"
             ],
             [
              0.3333333333333333,
              "#9c179e"
             ],
             [
              0.4444444444444444,
              "#bd3786"
             ],
             [
              0.5555555555555556,
              "#d8576b"
             ],
             [
              0.6666666666666666,
              "#ed7953"
             ],
             [
              0.7777777777777778,
              "#fb9f3a"
             ],
             [
              0.8888888888888888,
              "#fdca26"
             ],
             [
              1,
              "#f0f921"
             ]
            ],
            "type": "heatmap"
           }
          ],
          "heatmapgl": [
           {
            "colorbar": {
             "outlinewidth": 0,
             "ticks": ""
            },
            "colorscale": [
             [
              0,
              "#0d0887"
             ],
             [
              0.1111111111111111,
              "#46039f"
             ],
             [
              0.2222222222222222,
              "#7201a8"
             ],
             [
              0.3333333333333333,
              "#9c179e"
             ],
             [
              0.4444444444444444,
              "#bd3786"
             ],
             [
              0.5555555555555556,
              "#d8576b"
             ],
             [
              0.6666666666666666,
              "#ed7953"
             ],
             [
              0.7777777777777778,
              "#fb9f3a"
             ],
             [
              0.8888888888888888,
              "#fdca26"
             ],
             [
              1,
              "#f0f921"
             ]
            ],
            "type": "heatmapgl"
           }
          ],
          "histogram": [
           {
            "marker": {
             "colorbar": {
              "outlinewidth": 0,
              "ticks": ""
             }
            },
            "type": "histogram"
           }
          ],
          "histogram2d": [
           {
            "colorbar": {
             "outlinewidth": 0,
             "ticks": ""
            },
            "colorscale": [
             [
              0,
              "#0d0887"
             ],
             [
              0.1111111111111111,
              "#46039f"
             ],
             [
              0.2222222222222222,
              "#7201a8"
             ],
             [
              0.3333333333333333,
              "#9c179e"
             ],
             [
              0.4444444444444444,
              "#bd3786"
             ],
             [
              0.5555555555555556,
              "#d8576b"
             ],
             [
              0.6666666666666666,
              "#ed7953"
             ],
             [
              0.7777777777777778,
              "#fb9f3a"
             ],
             [
              0.8888888888888888,
              "#fdca26"
             ],
             [
              1,
              "#f0f921"
             ]
            ],
            "type": "histogram2d"
           }
          ],
          "histogram2dcontour": [
           {
            "colorbar": {
             "outlinewidth": 0,
             "ticks": ""
            },
            "colorscale": [
             [
              0,
              "#0d0887"
             ],
             [
              0.1111111111111111,
              "#46039f"
             ],
             [
              0.2222222222222222,
              "#7201a8"
             ],
             [
              0.3333333333333333,
              "#9c179e"
             ],
             [
              0.4444444444444444,
              "#bd3786"
             ],
             [
              0.5555555555555556,
              "#d8576b"
             ],
             [
              0.6666666666666666,
              "#ed7953"
             ],
             [
              0.7777777777777778,
              "#fb9f3a"
             ],
             [
              0.8888888888888888,
              "#fdca26"
             ],
             [
              1,
              "#f0f921"
             ]
            ],
            "type": "histogram2dcontour"
           }
          ],
          "mesh3d": [
           {
            "colorbar": {
             "outlinewidth": 0,
             "ticks": ""
            },
            "type": "mesh3d"
           }
          ],
          "parcoords": [
           {
            "line": {
             "colorbar": {
              "outlinewidth": 0,
              "ticks": ""
             }
            },
            "type": "parcoords"
           }
          ],
          "pie": [
           {
            "automargin": true,
            "type": "pie"
           }
          ],
          "scatter": [
           {
            "marker": {
             "colorbar": {
              "outlinewidth": 0,
              "ticks": ""
             }
            },
            "type": "scatter"
           }
          ],
          "scatter3d": [
           {
            "line": {
             "colorbar": {
              "outlinewidth": 0,
              "ticks": ""
             }
            },
            "marker": {
             "colorbar": {
              "outlinewidth": 0,
              "ticks": ""
             }
            },
            "type": "scatter3d"
           }
          ],
          "scattercarpet": [
           {
            "marker": {
             "colorbar": {
              "outlinewidth": 0,
              "ticks": ""
             }
            },
            "type": "scattercarpet"
           }
          ],
          "scattergeo": [
           {
            "marker": {
             "colorbar": {
              "outlinewidth": 0,
              "ticks": ""
             }
            },
            "type": "scattergeo"
           }
          ],
          "scattergl": [
           {
            "marker": {
             "colorbar": {
              "outlinewidth": 0,
              "ticks": ""
             }
            },
            "type": "scattergl"
           }
          ],
          "scattermapbox": [
           {
            "marker": {
             "colorbar": {
              "outlinewidth": 0,
              "ticks": ""
             }
            },
            "type": "scattermapbox"
           }
          ],
          "scatterpolar": [
           {
            "marker": {
             "colorbar": {
              "outlinewidth": 0,
              "ticks": ""
             }
            },
            "type": "scatterpolar"
           }
          ],
          "scatterpolargl": [
           {
            "marker": {
             "colorbar": {
              "outlinewidth": 0,
              "ticks": ""
             }
            },
            "type": "scatterpolargl"
           }
          ],
          "scatterternary": [
           {
            "marker": {
             "colorbar": {
              "outlinewidth": 0,
              "ticks": ""
             }
            },
            "type": "scatterternary"
           }
          ],
          "surface": [
           {
            "colorbar": {
             "outlinewidth": 0,
             "ticks": ""
            },
            "colorscale": [
             [
              0,
              "#0d0887"
             ],
             [
              0.1111111111111111,
              "#46039f"
             ],
             [
              0.2222222222222222,
              "#7201a8"
             ],
             [
              0.3333333333333333,
              "#9c179e"
             ],
             [
              0.4444444444444444,
              "#bd3786"
             ],
             [
              0.5555555555555556,
              "#d8576b"
             ],
             [
              0.6666666666666666,
              "#ed7953"
             ],
             [
              0.7777777777777778,
              "#fb9f3a"
             ],
             [
              0.8888888888888888,
              "#fdca26"
             ],
             [
              1,
              "#f0f921"
             ]
            ],
            "type": "surface"
           }
          ],
          "table": [
           {
            "cells": {
             "fill": {
              "color": "#EBF0F8"
             },
             "line": {
              "color": "white"
             }
            },
            "header": {
             "fill": {
              "color": "#C8D4E3"
             },
             "line": {
              "color": "white"
             }
            },
            "type": "table"
           }
          ]
         },
         "layout": {
          "annotationdefaults": {
           "arrowcolor": "#2a3f5f",
           "arrowhead": 0,
           "arrowwidth": 1
          },
          "autotypenumbers": "strict",
          "coloraxis": {
           "colorbar": {
            "outlinewidth": 0,
            "ticks": ""
           }
          },
          "colorscale": {
           "diverging": [
            [
             0,
             "#8e0152"
            ],
            [
             0.1,
             "#c51b7d"
            ],
            [
             0.2,
             "#de77ae"
            ],
            [
             0.3,
             "#f1b6da"
            ],
            [
             0.4,
             "#fde0ef"
            ],
            [
             0.5,
             "#f7f7f7"
            ],
            [
             0.6,
             "#e6f5d0"
            ],
            [
             0.7,
             "#b8e186"
            ],
            [
             0.8,
             "#7fbc41"
            ],
            [
             0.9,
             "#4d9221"
            ],
            [
             1,
             "#276419"
            ]
           ],
           "sequential": [
            [
             0,
             "#0d0887"
            ],
            [
             0.1111111111111111,
             "#46039f"
            ],
            [
             0.2222222222222222,
             "#7201a8"
            ],
            [
             0.3333333333333333,
             "#9c179e"
            ],
            [
             0.4444444444444444,
             "#bd3786"
            ],
            [
             0.5555555555555556,
             "#d8576b"
            ],
            [
             0.6666666666666666,
             "#ed7953"
            ],
            [
             0.7777777777777778,
             "#fb9f3a"
            ],
            [
             0.8888888888888888,
             "#fdca26"
            ],
            [
             1,
             "#f0f921"
            ]
           ],
           "sequentialminus": [
            [
             0,
             "#0d0887"
            ],
            [
             0.1111111111111111,
             "#46039f"
            ],
            [
             0.2222222222222222,
             "#7201a8"
            ],
            [
             0.3333333333333333,
             "#9c179e"
            ],
            [
             0.4444444444444444,
             "#bd3786"
            ],
            [
             0.5555555555555556,
             "#d8576b"
            ],
            [
             0.6666666666666666,
             "#ed7953"
            ],
            [
             0.7777777777777778,
             "#fb9f3a"
            ],
            [
             0.8888888888888888,
             "#fdca26"
            ],
            [
             1,
             "#f0f921"
            ]
           ]
          },
          "colorway": [
           "#636efa",
           "#EF553B",
           "#00cc96",
           "#ab63fa",
           "#FFA15A",
           "#19d3f3",
           "#FF6692",
           "#B6E880",
           "#FF97FF",
           "#FECB52"
          ],
          "font": {
           "color": "#2a3f5f"
          },
          "geo": {
           "bgcolor": "white",
           "lakecolor": "white",
           "landcolor": "white",
           "showlakes": true,
           "showland": true,
           "subunitcolor": "#C8D4E3"
          },
          "hoverlabel": {
           "align": "left"
          },
          "hovermode": "closest",
          "mapbox": {
           "style": "light"
          },
          "paper_bgcolor": "white",
          "plot_bgcolor": "white",
          "polar": {
           "angularaxis": {
            "gridcolor": "#EBF0F8",
            "linecolor": "#EBF0F8",
            "ticks": ""
           },
           "bgcolor": "white",
           "radialaxis": {
            "gridcolor": "#EBF0F8",
            "linecolor": "#EBF0F8",
            "ticks": ""
           }
          },
          "scene": {
           "xaxis": {
            "backgroundcolor": "white",
            "gridcolor": "#DFE8F3",
            "gridwidth": 2,
            "linecolor": "#EBF0F8",
            "showbackground": true,
            "ticks": "",
            "zerolinecolor": "#EBF0F8"
           },
           "yaxis": {
            "backgroundcolor": "white",
            "gridcolor": "#DFE8F3",
            "gridwidth": 2,
            "linecolor": "#EBF0F8",
            "showbackground": true,
            "ticks": "",
            "zerolinecolor": "#EBF0F8"
           },
           "zaxis": {
            "backgroundcolor": "white",
            "gridcolor": "#DFE8F3",
            "gridwidth": 2,
            "linecolor": "#EBF0F8",
            "showbackground": true,
            "ticks": "",
            "zerolinecolor": "#EBF0F8"
           }
          },
          "shapedefaults": {
           "line": {
            "color": "#2a3f5f"
           }
          },
          "ternary": {
           "aaxis": {
            "gridcolor": "#DFE8F3",
            "linecolor": "#A2B1C6",
            "ticks": ""
           },
           "baxis": {
            "gridcolor": "#DFE8F3",
            "linecolor": "#A2B1C6",
            "ticks": ""
           },
           "bgcolor": "white",
           "caxis": {
            "gridcolor": "#DFE8F3",
            "linecolor": "#A2B1C6",
            "ticks": ""
           }
          },
          "title": {
           "x": 0.05
          },
          "xaxis": {
           "automargin": true,
           "gridcolor": "#EBF0F8",
           "linecolor": "#EBF0F8",
           "ticks": "",
           "title": {
            "standoff": 15
           },
           "zerolinecolor": "#EBF0F8",
           "zerolinewidth": 2
          },
          "yaxis": {
           "automargin": true,
           "gridcolor": "#EBF0F8",
           "linecolor": "#EBF0F8",
           "ticks": "",
           "title": {
            "standoff": 15
           },
           "zerolinecolor": "#EBF0F8",
           "zerolinewidth": 2
          }
         }
        },
        "title": {
         "text": "Net annual CO2 emissions",
         "x": 0.5,
         "xanchor": "center",
         "y": 0.95
        },
        "updatemenus": [
         {
          "buttons": [
           {
            "args": [
             {
              "line.color": [
               "blue",
               "skyblue",
               "goldenrod",
               "red",
               "black"
              ],
              "opacity": [
               1,
               1,
               1,
               1
              ]
             },
             {
              "annotations": []
             }
            ],
            "label": "all",
            "method": "update"
           },
           {
            "args": [
             {
              "line.color": [
               "blue",
               "gray",
               "gray",
               "gray",
               "black"
              ],
              "opacity": [
               1,
               0.2,
               0.2,
               0.2,
               1
              ]
             },
             {
              "annotations": [
               {
                "bgcolor": "rgba(1.0, 1.0, 1.0, 1)",
                "bordercolor": "gray",
                "borderpad": 4,
                "borderwidth": 1,
                "font": {
                 "size": 11
                },
                "hovertext": "Sources: <br>Riahi et al. 2017, <i>Global Environmental Change</i><br>Rogeli et al. 2018, <i>Nature Climate Change</i>",
                "showarrow": false,
                "text": "<b>SSP1.26: Sustainability</b><br>A gradual, global shift to a path that addresses <br> equal and sustainable developments. <br> Av. Temp rise: 1.7 – 1.8°C <br> Paris goals reached: &#9989;",
                "x": "1955-12-31T00:00:00",
                "xanchor": "center",
                "y": 115,
                "yanchor": "top"
               }
              ]
             }
            ],
            "label": "SSP1.26",
            "method": "update"
           },
           {
            "args": [
             {
              "line.color": [
               "gray",
               "skyblue",
               "gray",
               "gray",
               "black"
              ],
              "opacity": [
               0.2,
               1,
               0.2,
               0.2,
               1
              ]
             },
             {
              "annotations": [
               {
                "bgcolor": "rgba(1.0, 1.0, 1.0, 1)",
                "bordercolor": "gray",
                "borderpad": 4,
                "borderwidth": 1,
                "font": {
                 "size": 11
                },
                "hovertext": "Sources: <br>Riahi et al. 2017, <i>Global Environmental Change</i><br>Rogeli et al. 2018, <i>Nature Climate Change</i>",
                "showarrow": false,
                "text": "<b>SSP2.45: Middle of the Road </b><br>The global shift in terms of sustainable social,<br> economic and technological trends are not very <br>different from historical trends. <br>Av. Temp rise: 2 – 3°C <br>Paris goals reached: &#9989; / &#10060;",
                "x": "1955-12-31T00:00:00",
                "xanchor": "center",
                "y": 115,
                "yanchor": "top"
               }
              ]
             }
            ],
            "label": "SSP2.45",
            "method": "update"
           },
           {
            "args": [
             {
              "line.color": [
               "gray",
               "gray",
               "goldenrod",
               "gray",
               "black"
              ],
              "opacity": [
               0.2,
               0.2,
               1,
               0.2,
               1
              ]
             },
             {
              "annotations": [
               {
                "bgcolor": "rgba(1.0, 1.0, 1.0, 1)",
                "bordercolor": "gray",
                "borderpad": 4,
                "borderwidth": 1,
                "font": {
                 "size": 11
                },
                "hovertext": "Sources: <br>Riahi et al. 2017, <i>Global Environmental Change</i><br>Rogeli et al. 2018, <i>Nature Climate Change</i>",
                "showarrow": false,
                "text": "<b>SSP3.70: Regional Rivalry</b><br> Shift to increasing concern for national or regional<br>policies with regards to energy and food security<br>goals with material-intensive consumption. <br>Av. Temp rise: 3 – 4°C <br>Paris goals reached: &#10060;",
                "x": "1955-12-31T00:00:00",
                "xanchor": "center",
                "y": 115,
                "yanchor": "top"
               }
              ]
             }
            ],
            "label": "SSP3.74",
            "method": "update"
           },
           {
            "args": [
             {
              "line.color": [
               "gray",
               "gray",
               "gray",
               "red",
               "black"
              ],
              "opacity": [
               0.2,
               0.2,
               0.2,
               1,
               1
              ]
             },
             {
              "annotations": [
               {
                "bgcolor": "rgba(1.0, 1.0, 1.0, 1)",
                "bordercolor": "gray",
                "borderpad": 4,
                "borderwidth": 1,
                "font": {
                 "size": 11
                },
                "hovertext": "Sources: <br>Riahi et al. 2017, <i>Global Environmental Change</i><br>Rogeli et al. 2018, <i>Nature Climate Change</i>",
                "showarrow": false,
                "text": "<b>SSP 5.85: Fossil-fuelled development</b><br>Increasing reliance on a competitive, fossil fuel-driven <br>economy in a globally integrated market leads to a<br>rapid growth in the global economy. Populations peak<br>and subsequently decline in the 21st Century.<br>Av. Temp rise: > 5°C<br>Paris goals reached: &#10060;",
                "x": "1955-12-31T00:00:00",
                "xanchor": "center",
                "y": 115,
                "yanchor": "top"
               }
              ]
             }
            ],
            "label": "SSP5.85",
            "method": "update"
           }
          ],
          "direction": "left",
          "showactive": true,
          "type": "buttons",
          "x": 0,
          "xanchor": "left",
          "y": 1.12,
          "yanchor": "top"
         }
        ],
        "width": 1000,
        "xaxis": {
         "showgrid": false,
         "tickcolor": "black",
         "ticklen": 10,
         "ticks": "inside",
         "tickwidth": 1,
         "zeroline": false
        },
        "yaxis": {
         "showgrid": true,
         "tickcolor": "black",
         "ticklen": 10,
         "ticks": "inside",
         "tickwidth": 1,
         "title": {
          "text": "Gt CO2"
         },
         "zeroline": false
        }
       }
      },
      "text/html": [
       "<div>                            <div id=\"64f3df8e-6e16-4ad1-b74f-8a4d22e23916\" class=\"plotly-graph-div\" style=\"height:550px; width:1000px;\"></div>            <script type=\"text/javascript\">                require([\"plotly\"], function(Plotly) {                    window.PLOTLYENV=window.PLOTLYENV || {};                                    if (document.getElementById(\"64f3df8e-6e16-4ad1-b74f-8a4d22e23916\")) {                    Plotly.newPlot(                        \"64f3df8e-6e16-4ad1-b74f-8a4d22e23916\",                        [{\"hovertemplate\": \"SSP1.26\", \"line\": {\"color\": \"blue\", \"width\": 4}, \"mode\": \"lines\", \"name\": \"SSP1.26\", \"type\": \"scatter\", \"x\": [\"2015-01-01T00:00:00\", \"2020-01-01T00:00:00\", \"2030-01-01T00:00:00\", \"2040-01-01T00:00:00\", \"2050-01-01T00:00:00\", \"2060-01-01T00:00:00\", \"2070-01-01T00:00:00\", \"2080-01-01T00:00:00\", \"2090-01-01T00:00:00\", \"2100-01-01T00:00:00\"], \"y\": [34.8783942878675, 35.8594037972893, 33.7809608992212, 26.1316359975354, 18.9925639728212, 12.4213444642784, 6.39938789268139, -1.41846309539267, -6.78202578929995, -6.19078752918513]}, {\"hovertemplate\": \"SSP2.45\", \"line\": {\"color\": \"skyblue\", \"width\": 4}, \"mode\": \"lines\", \"name\": \"SSP2.45\", \"type\": \"scatter\", \"x\": [\"2015-01-01T00:00:00\", \"2020-01-01T00:00:00\", \"2030-01-01T00:00:00\", \"2040-01-01T00:00:00\", \"2050-01-01T00:00:00\", \"2060-01-01T00:00:00\", \"2070-01-01T00:00:00\", \"2080-01-01T00:00:00\", \"2090-01-01T00:00:00\", \"2100-01-01T00:00:00\"], \"y\": [34.8783942878675, 36.4834303904359, 39.3813662501233, 40.689620763729, 41.4331244595126, 40.1202449283436, 35.5532353588736, 28.099628976397, 18.4992531850896, 12.5889687149949]}, {\"hovertemplate\": \"SSP3.70\", \"line\": {\"color\": \"goldenrod\", \"width\": 4}, \"mode\": \"lines\", \"name\": \"SSP3.70\", \"type\": \"scatter\", \"x\": [\"2015-01-01T00:00:00\", \"2020-01-01T00:00:00\", \"2030-01-01T00:00:00\", \"2040-01-01T00:00:00\", \"2050-01-01T00:00:00\", \"2060-01-01T00:00:00\", \"2070-01-01T00:00:00\", \"2080-01-01T00:00:00\", \"2090-01-01T00:00:00\", \"2100-01-01T00:00:00\"], \"y\": [34.8783942878675, 39.977471023829, 47.982177061312, 53.619648573831, 57.9717985607852, 61.0708544003816, 64.3030611433373, 67.5192538749212, 72.0390121823788, 76.7202854247436]}, {\"hovertemplate\": \"SSP5.85\", \"line\": {\"color\": \"red\", \"width\": 4}, \"mode\": \"lines\", \"name\": \"SSP5.85\", \"type\": \"scatter\", \"x\": [\"2015-01-01T00:00:00\", \"2020-01-01T00:00:00\", \"2030-01-01T00:00:00\", \"2040-01-01T00:00:00\", \"2050-01-01T00:00:00\", \"2060-01-01T00:00:00\", \"2070-01-01T00:00:00\", \"2080-01-01T00:00:00\", \"2090-01-01T00:00:00\", \"2100-01-01T00:00:00\"], \"y\": [34.8783942878675, 38.8762395974145, 49.5328347369858, 63.6207149184434, 79.1236259371774, 97.7180346667579, 114.365803986902, 126.806567507177, 127.748595443224, 124.272417558379]}, {\"hovertemplate\": \"historical\", \"line\": {\"color\": \"black\", \"width\": 4}, \"mode\": \"lines\", \"name\": \"historical\", \"type\": \"scatter\", \"x\": [\"1900-12-31T00:00:00\", \"1901-12-31T00:00:00\", \"1902-12-31T00:00:00\", \"1903-12-31T00:00:00\", \"1904-12-31T00:00:00\", \"1905-12-31T00:00:00\", \"1906-12-31T00:00:00\", \"1907-12-31T00:00:00\", \"1908-12-31T00:00:00\", \"1909-12-31T00:00:00\", \"1910-12-31T00:00:00\", \"1911-12-31T00:00:00\", \"1912-12-31T00:00:00\", \"1913-12-31T00:00:00\", \"1914-12-31T00:00:00\", \"1915-12-31T00:00:00\", \"1916-12-31T00:00:00\", \"1917-12-31T00:00:00\", \"1918-12-31T00:00:00\", \"1919-12-31T00:00:00\", \"1920-12-31T00:00:00\", \"1921-12-31T00:00:00\", \"1922-12-31T00:00:00\", \"1923-12-31T00:00:00\", \"1924-12-31T00:00:00\", \"1925-12-31T00:00:00\", \"1926-12-31T00:00:00\", \"1927-12-31T00:00:00\", \"1928-12-31T00:00:00\", \"1929-12-31T00:00:00\", \"1930-12-31T00:00:00\", \"1931-12-31T00:00:00\", \"1932-12-31T00:00:00\", \"1933-12-31T00:00:00\", \"1934-12-31T00:00:00\", \"1935-12-31T00:00:00\", \"1936-12-31T00:00:00\", \"1937-12-31T00:00:00\", \"1938-12-31T00:00:00\", \"1939-12-31T00:00:00\", \"1940-12-31T00:00:00\", \"1941-12-31T00:00:00\", \"1942-12-31T00:00:00\", \"1943-12-31T00:00:00\", \"1944-12-31T00:00:00\", \"1945-12-31T00:00:00\", \"1946-12-31T00:00:00\", \"1947-12-31T00:00:00\", \"1948-12-31T00:00:00\", \"1949-12-31T00:00:00\", \"1950-12-31T00:00:00\", \"1951-12-31T00:00:00\", \"1952-12-31T00:00:00\", \"1953-12-31T00:00:00\", \"1954-12-31T00:00:00\", \"1955-12-31T00:00:00\", \"1956-12-31T00:00:00\", \"1957-12-31T00:00:00\", \"1958-12-31T00:00:00\", \"1959-12-31T00:00:00\", \"1960-12-31T00:00:00\", \"1961-12-31T00:00:00\", \"1962-12-31T00:00:00\", \"1963-12-31T00:00:00\", \"1964-12-31T00:00:00\", \"1965-12-31T00:00:00\", \"1966-12-31T00:00:00\", \"1967-12-31T00:00:00\", \"1968-12-31T00:00:00\", \"1969-12-31T00:00:00\", \"1970-12-31T00:00:00\", \"1971-12-31T00:00:00\", \"1972-12-31T00:00:00\", \"1973-12-31T00:00:00\", \"1974-12-31T00:00:00\", \"1975-12-31T00:00:00\", \"1976-12-31T00:00:00\", \"1977-12-31T00:00:00\", \"1978-12-31T00:00:00\", \"1979-12-31T00:00:00\", \"1980-12-31T00:00:00\", \"1981-12-31T00:00:00\", \"1982-12-31T00:00:00\", \"1983-12-31T00:00:00\", \"1984-12-31T00:00:00\", \"1985-12-31T00:00:00\", \"1986-12-31T00:00:00\", \"1987-12-31T00:00:00\", \"1988-12-31T00:00:00\", \"1989-12-31T00:00:00\", \"1990-12-31T00:00:00\", \"1991-12-31T00:00:00\", \"1992-12-31T00:00:00\", \"1993-12-31T00:00:00\", \"1994-12-31T00:00:00\", \"1995-12-31T00:00:00\", \"1996-12-31T00:00:00\", \"1997-12-31T00:00:00\", \"1998-12-31T00:00:00\", \"1999-12-31T00:00:00\", \"2000-12-31T00:00:00\", \"2001-12-31T00:00:00\", \"2002-12-31T00:00:00\", \"2003-12-31T00:00:00\", \"2004-12-31T00:00:00\", \"2005-12-31T00:00:00\", \"2006-12-31T00:00:00\", \"2007-12-31T00:00:00\", \"2008-12-31T00:00:00\", \"2009-12-31T00:00:00\", \"2010-12-31T00:00:00\", \"2011-12-31T00:00:00\", \"2012-12-31T00:00:00\", \"2013-12-31T00:00:00\", \"2014-12-31T00:00:00\"], \"y\": [1.78526695, 1.844976625, 1.899257177, 2.071730149, 2.103328364, 2.239369726, 2.356415855, 2.658481167, 2.571462794, 2.666965954, 2.799849298, 2.855589757, 2.997982795, 3.252015919, 2.965944274, 2.934525424, 3.162224306, 3.276466942, 3.242731295, 2.85215286, 3.297923147, 2.897427404, 3.078869911, 3.500453083, 3.53955507, 3.587408887, 3.541446908, 3.907426694, 3.922027868, 4.215329874, 3.908218255, 3.526798226, 3.203977752, 3.359883358, 3.641417664, 3.821902325, 4.184272144, 4.475909321, 4.221331565, 4.480114271, 4.84306084, 4.932389724, 4.94012265, 5.098044129, 5.036884865, 4.279821699, 4.691534555, 5.256431128, 5.586329467, 5.490005486, 6.141133151, 6.579795332, 6.701449213, 6.893920649, 7.0702932, 7.732242079, 8.281273829, 8.620862, 8.916429545, 9.409786854, 9.865942729, 9.940457042, 10.35244989, 10.95695286, 11.52297013, 12.05458682, 12.6216722, 13.04528674, 13.77929438, 14.59638503, 15.54497202, 16.21258178, 16.91766808, 17.88955515, 17.80166237, 17.71835481, 18.69417275, 19.29646555, 20.08099845, 20.61090665, 20.31630204, 19.91621696, 19.68648019, 19.70206501, 20.17398317, 20.38025258, 20.74297461, 21.29984984, 21.97824174, 22.24086329, 22.14460593, 22.17386672, 22.00727782, 22.1802648, 22.32917141, 22.8200609, 23.28620155, 23.49624076, 23.54085143, 23.77870183, 24.60124832, 24.85093152, 25.3618076, 26.56146888, 27.94452685, 28.94981112, 29.91454282, 31.08279556, 31.28624594, 30.78720429, 32.18834073, 33.19668336, 33.66847976, 34.66098792, 34.87806359, 34.8783942878675]}],                        {\"font\": {\"size\": 14}, \"height\": 550, \"legend\": {\"itemclick\": false, \"itemdoubleclick\": false}, \"shapes\": [{\"type\": \"line\", \"x0\": \"2015-01-01T00:00:00\", \"x1\": \"2015-01-01T00:00:00\", \"xref\": \"x\", \"y0\": 0, \"y1\": 1, \"yref\": \"y domain\"}], \"template\": {\"data\": {\"bar\": [{\"error_x\": {\"color\": \"#2a3f5f\"}, \"error_y\": {\"color\": \"#2a3f5f\"}, \"marker\": {\"line\": {\"color\": \"white\", \"width\": 0.5}}, \"type\": \"bar\"}], \"barpolar\": [{\"marker\": {\"line\": {\"color\": \"white\", \"width\": 0.5}}, \"type\": \"barpolar\"}], \"carpet\": [{\"aaxis\": {\"endlinecolor\": \"#2a3f5f\", \"gridcolor\": \"#C8D4E3\", \"linecolor\": \"#C8D4E3\", \"minorgridcolor\": \"#C8D4E3\", \"startlinecolor\": \"#2a3f5f\"}, \"baxis\": {\"endlinecolor\": \"#2a3f5f\", \"gridcolor\": \"#C8D4E3\", \"linecolor\": \"#C8D4E3\", \"minorgridcolor\": \"#C8D4E3\", \"startlinecolor\": \"#2a3f5f\"}, \"type\": \"carpet\"}], \"choropleth\": [{\"colorbar\": {\"outlinewidth\": 0, \"ticks\": \"\"}, \"type\": \"choropleth\"}], \"contour\": [{\"colorbar\": {\"outlinewidth\": 0, \"ticks\": \"\"}, \"colorscale\": [[0.0, \"#0d0887\"], [0.1111111111111111, \"#46039f\"], [0.2222222222222222, \"#7201a8\"], [0.3333333333333333, \"#9c179e\"], [0.4444444444444444, \"#bd3786\"], [0.5555555555555556, \"#d8576b\"], [0.6666666666666666, \"#ed7953\"], [0.7777777777777778, \"#fb9f3a\"], [0.8888888888888888, \"#fdca26\"], [1.0, \"#f0f921\"]], \"type\": \"contour\"}], \"contourcarpet\": [{\"colorbar\": {\"outlinewidth\": 0, \"ticks\": \"\"}, \"type\": \"contourcarpet\"}], \"heatmap\": [{\"colorbar\": {\"outlinewidth\": 0, \"ticks\": \"\"}, \"colorscale\": [[0.0, \"#0d0887\"], [0.1111111111111111, \"#46039f\"], [0.2222222222222222, \"#7201a8\"], [0.3333333333333333, \"#9c179e\"], [0.4444444444444444, \"#bd3786\"], [0.5555555555555556, \"#d8576b\"], [0.6666666666666666, \"#ed7953\"], [0.7777777777777778, \"#fb9f3a\"], [0.8888888888888888, \"#fdca26\"], [1.0, \"#f0f921\"]], \"type\": \"heatmap\"}], \"heatmapgl\": [{\"colorbar\": {\"outlinewidth\": 0, \"ticks\": \"\"}, \"colorscale\": [[0.0, \"#0d0887\"], [0.1111111111111111, \"#46039f\"], [0.2222222222222222, \"#7201a8\"], [0.3333333333333333, \"#9c179e\"], [0.4444444444444444, \"#bd3786\"], [0.5555555555555556, \"#d8576b\"], [0.6666666666666666, \"#ed7953\"], [0.7777777777777778, \"#fb9f3a\"], [0.8888888888888888, \"#fdca26\"], [1.0, \"#f0f921\"]], \"type\": \"heatmapgl\"}], \"histogram\": [{\"marker\": {\"colorbar\": {\"outlinewidth\": 0, \"ticks\": \"\"}}, \"type\": \"histogram\"}], \"histogram2d\": [{\"colorbar\": {\"outlinewidth\": 0, \"ticks\": \"\"}, \"colorscale\": [[0.0, \"#0d0887\"], [0.1111111111111111, \"#46039f\"], [0.2222222222222222, \"#7201a8\"], [0.3333333333333333, \"#9c179e\"], [0.4444444444444444, \"#bd3786\"], [0.5555555555555556, \"#d8576b\"], [0.6666666666666666, \"#ed7953\"], [0.7777777777777778, \"#fb9f3a\"], [0.8888888888888888, \"#fdca26\"], [1.0, \"#f0f921\"]], \"type\": \"histogram2d\"}], \"histogram2dcontour\": [{\"colorbar\": {\"outlinewidth\": 0, \"ticks\": \"\"}, \"colorscale\": [[0.0, \"#0d0887\"], [0.1111111111111111, \"#46039f\"], [0.2222222222222222, \"#7201a8\"], [0.3333333333333333, \"#9c179e\"], [0.4444444444444444, \"#bd3786\"], [0.5555555555555556, \"#d8576b\"], [0.6666666666666666, \"#ed7953\"], [0.7777777777777778, \"#fb9f3a\"], [0.8888888888888888, \"#fdca26\"], [1.0, \"#f0f921\"]], \"type\": \"histogram2dcontour\"}], \"mesh3d\": [{\"colorbar\": {\"outlinewidth\": 0, \"ticks\": \"\"}, \"type\": \"mesh3d\"}], \"parcoords\": [{\"line\": {\"colorbar\": {\"outlinewidth\": 0, \"ticks\": \"\"}}, \"type\": \"parcoords\"}], \"pie\": [{\"automargin\": true, \"type\": \"pie\"}], \"scatter\": [{\"marker\": {\"colorbar\": {\"outlinewidth\": 0, \"ticks\": \"\"}}, \"type\": \"scatter\"}], \"scatter3d\": [{\"line\": {\"colorbar\": {\"outlinewidth\": 0, \"ticks\": \"\"}}, \"marker\": {\"colorbar\": {\"outlinewidth\": 0, \"ticks\": \"\"}}, \"type\": \"scatter3d\"}], \"scattercarpet\": [{\"marker\": {\"colorbar\": {\"outlinewidth\": 0, \"ticks\": \"\"}}, \"type\": \"scattercarpet\"}], \"scattergeo\": [{\"marker\": {\"colorbar\": {\"outlinewidth\": 0, \"ticks\": \"\"}}, \"type\": \"scattergeo\"}], \"scattergl\": [{\"marker\": {\"colorbar\": {\"outlinewidth\": 0, \"ticks\": \"\"}}, \"type\": \"scattergl\"}], \"scattermapbox\": [{\"marker\": {\"colorbar\": {\"outlinewidth\": 0, \"ticks\": \"\"}}, \"type\": \"scattermapbox\"}], \"scatterpolar\": [{\"marker\": {\"colorbar\": {\"outlinewidth\": 0, \"ticks\": \"\"}}, \"type\": \"scatterpolar\"}], \"scatterpolargl\": [{\"marker\": {\"colorbar\": {\"outlinewidth\": 0, \"ticks\": \"\"}}, \"type\": \"scatterpolargl\"}], \"scatterternary\": [{\"marker\": {\"colorbar\": {\"outlinewidth\": 0, \"ticks\": \"\"}}, \"type\": \"scatterternary\"}], \"surface\": [{\"colorbar\": {\"outlinewidth\": 0, \"ticks\": \"\"}, \"colorscale\": [[0.0, \"#0d0887\"], [0.1111111111111111, \"#46039f\"], [0.2222222222222222, \"#7201a8\"], [0.3333333333333333, \"#9c179e\"], [0.4444444444444444, \"#bd3786\"], [0.5555555555555556, \"#d8576b\"], [0.6666666666666666, \"#ed7953\"], [0.7777777777777778, \"#fb9f3a\"], [0.8888888888888888, \"#fdca26\"], [1.0, \"#f0f921\"]], \"type\": \"surface\"}], \"table\": [{\"cells\": {\"fill\": {\"color\": \"#EBF0F8\"}, \"line\": {\"color\": \"white\"}}, \"header\": {\"fill\": {\"color\": \"#C8D4E3\"}, \"line\": {\"color\": \"white\"}}, \"type\": \"table\"}]}, \"layout\": {\"annotationdefaults\": {\"arrowcolor\": \"#2a3f5f\", \"arrowhead\": 0, \"arrowwidth\": 1}, \"autotypenumbers\": \"strict\", \"coloraxis\": {\"colorbar\": {\"outlinewidth\": 0, \"ticks\": \"\"}}, \"colorscale\": {\"diverging\": [[0, \"#8e0152\"], [0.1, \"#c51b7d\"], [0.2, \"#de77ae\"], [0.3, \"#f1b6da\"], [0.4, \"#fde0ef\"], [0.5, \"#f7f7f7\"], [0.6, \"#e6f5d0\"], [0.7, \"#b8e186\"], [0.8, \"#7fbc41\"], [0.9, \"#4d9221\"], [1, \"#276419\"]], \"sequential\": [[0.0, \"#0d0887\"], [0.1111111111111111, \"#46039f\"], [0.2222222222222222, \"#7201a8\"], [0.3333333333333333, \"#9c179e\"], [0.4444444444444444, \"#bd3786\"], [0.5555555555555556, \"#d8576b\"], [0.6666666666666666, \"#ed7953\"], [0.7777777777777778, \"#fb9f3a\"], [0.8888888888888888, \"#fdca26\"], [1.0, \"#f0f921\"]], \"sequentialminus\": [[0.0, \"#0d0887\"], [0.1111111111111111, \"#46039f\"], [0.2222222222222222, \"#7201a8\"], [0.3333333333333333, \"#9c179e\"], [0.4444444444444444, \"#bd3786\"], [0.5555555555555556, \"#d8576b\"], [0.6666666666666666, \"#ed7953\"], [0.7777777777777778, \"#fb9f3a\"], [0.8888888888888888, \"#fdca26\"], [1.0, \"#f0f921\"]]}, \"colorway\": [\"#636efa\", \"#EF553B\", \"#00cc96\", \"#ab63fa\", \"#FFA15A\", \"#19d3f3\", \"#FF6692\", \"#B6E880\", \"#FF97FF\", \"#FECB52\"], \"font\": {\"color\": \"#2a3f5f\"}, \"geo\": {\"bgcolor\": \"white\", \"lakecolor\": \"white\", \"landcolor\": \"white\", \"showlakes\": true, \"showland\": true, \"subunitcolor\": \"#C8D4E3\"}, \"hoverlabel\": {\"align\": \"left\"}, \"hovermode\": \"closest\", \"mapbox\": {\"style\": \"light\"}, \"paper_bgcolor\": \"white\", \"plot_bgcolor\": \"white\", \"polar\": {\"angularaxis\": {\"gridcolor\": \"#EBF0F8\", \"linecolor\": \"#EBF0F8\", \"ticks\": \"\"}, \"bgcolor\": \"white\", \"radialaxis\": {\"gridcolor\": \"#EBF0F8\", \"linecolor\": \"#EBF0F8\", \"ticks\": \"\"}}, \"scene\": {\"xaxis\": {\"backgroundcolor\": \"white\", \"gridcolor\": \"#DFE8F3\", \"gridwidth\": 2, \"linecolor\": \"#EBF0F8\", \"showbackground\": true, \"ticks\": \"\", \"zerolinecolor\": \"#EBF0F8\"}, \"yaxis\": {\"backgroundcolor\": \"white\", \"gridcolor\": \"#DFE8F3\", \"gridwidth\": 2, \"linecolor\": \"#EBF0F8\", \"showbackground\": true, \"ticks\": \"\", \"zerolinecolor\": \"#EBF0F8\"}, \"zaxis\": {\"backgroundcolor\": \"white\", \"gridcolor\": \"#DFE8F3\", \"gridwidth\": 2, \"linecolor\": \"#EBF0F8\", \"showbackground\": true, \"ticks\": \"\", \"zerolinecolor\": \"#EBF0F8\"}}, \"shapedefaults\": {\"line\": {\"color\": \"#2a3f5f\"}}, \"ternary\": {\"aaxis\": {\"gridcolor\": \"#DFE8F3\", \"linecolor\": \"#A2B1C6\", \"ticks\": \"\"}, \"baxis\": {\"gridcolor\": \"#DFE8F3\", \"linecolor\": \"#A2B1C6\", \"ticks\": \"\"}, \"bgcolor\": \"white\", \"caxis\": {\"gridcolor\": \"#DFE8F3\", \"linecolor\": \"#A2B1C6\", \"ticks\": \"\"}}, \"title\": {\"x\": 0.05}, \"xaxis\": {\"automargin\": true, \"gridcolor\": \"#EBF0F8\", \"linecolor\": \"#EBF0F8\", \"ticks\": \"\", \"title\": {\"standoff\": 15}, \"zerolinecolor\": \"#EBF0F8\", \"zerolinewidth\": 2}, \"yaxis\": {\"automargin\": true, \"gridcolor\": \"#EBF0F8\", \"linecolor\": \"#EBF0F8\", \"ticks\": \"\", \"title\": {\"standoff\": 15}, \"zerolinecolor\": \"#EBF0F8\", \"zerolinewidth\": 2}}}, \"title\": {\"text\": \"Net annual CO2 emissions\", \"x\": 0.5, \"xanchor\": \"center\", \"y\": 0.95}, \"updatemenus\": [{\"buttons\": [{\"args\": [{\"line.color\": [\"blue\", \"skyblue\", \"goldenrod\", \"red\", \"black\"], \"opacity\": [1, 1, 1, 1]}, {\"annotations\": []}], \"label\": \"all\", \"method\": \"update\"}, {\"args\": [{\"line.color\": [\"blue\", \"gray\", \"gray\", \"gray\", \"black\"], \"opacity\": [1, 0.2, 0.2, 0.2, 1]}, {\"annotations\": [{\"bgcolor\": \"rgba(1.0, 1.0, 1.0, 1)\", \"bordercolor\": \"gray\", \"borderpad\": 4, \"borderwidth\": 1, \"font\": {\"size\": 11}, \"hovertext\": \"Sources: <br>Riahi et al. 2017, <i>Global Environmental Change</i><br>Rogeli et al. 2018, <i>Nature Climate Change</i>\", \"showarrow\": false, \"text\": \"<b>SSP1.26: Sustainability</b><br>A gradual, global shift to a path that addresses <br> equal and sustainable developments. <br> Av. Temp rise: 1.7 \\u2013 1.8\\u00b0C <br> Paris goals reached: &#9989;\", \"x\": \"1955-12-31T00:00:00\", \"xanchor\": \"center\", \"y\": 115, \"yanchor\": \"top\"}]}], \"label\": \"SSP1.26\", \"method\": \"update\"}, {\"args\": [{\"line.color\": [\"gray\", \"skyblue\", \"gray\", \"gray\", \"black\"], \"opacity\": [0.2, 1, 0.2, 0.2, 1]}, {\"annotations\": [{\"bgcolor\": \"rgba(1.0, 1.0, 1.0, 1)\", \"bordercolor\": \"gray\", \"borderpad\": 4, \"borderwidth\": 1, \"font\": {\"size\": 11}, \"hovertext\": \"Sources: <br>Riahi et al. 2017, <i>Global Environmental Change</i><br>Rogeli et al. 2018, <i>Nature Climate Change</i>\", \"showarrow\": false, \"text\": \"<b>SSP2.45: Middle of the Road </b><br>The global shift in terms of sustainable social,<br> economic and technological trends are not very <br>different from historical trends. <br>Av. Temp rise: 2 \\u2013 3\\u00b0C <br>Paris goals reached: &#9989; / &#10060;\", \"x\": \"1955-12-31T00:00:00\", \"xanchor\": \"center\", \"y\": 115, \"yanchor\": \"top\"}]}], \"label\": \"SSP2.45\", \"method\": \"update\"}, {\"args\": [{\"line.color\": [\"gray\", \"gray\", \"goldenrod\", \"gray\", \"black\"], \"opacity\": [0.2, 0.2, 1, 0.2, 1]}, {\"annotations\": [{\"bgcolor\": \"rgba(1.0, 1.0, 1.0, 1)\", \"bordercolor\": \"gray\", \"borderpad\": 4, \"borderwidth\": 1, \"font\": {\"size\": 11}, \"hovertext\": \"Sources: <br>Riahi et al. 2017, <i>Global Environmental Change</i><br>Rogeli et al. 2018, <i>Nature Climate Change</i>\", \"showarrow\": false, \"text\": \"<b>SSP3.70: Regional Rivalry</b><br> Shift to increasing concern for national or regional<br>policies with regards to energy and food security<br>goals with material-intensive consumption. <br>Av. Temp rise: 3 \\u2013 4\\u00b0C <br>Paris goals reached: &#10060;\", \"x\": \"1955-12-31T00:00:00\", \"xanchor\": \"center\", \"y\": 115, \"yanchor\": \"top\"}]}], \"label\": \"SSP3.74\", \"method\": \"update\"}, {\"args\": [{\"line.color\": [\"gray\", \"gray\", \"gray\", \"red\", \"black\"], \"opacity\": [0.2, 0.2, 0.2, 1, 1]}, {\"annotations\": [{\"bgcolor\": \"rgba(1.0, 1.0, 1.0, 1)\", \"bordercolor\": \"gray\", \"borderpad\": 4, \"borderwidth\": 1, \"font\": {\"size\": 11}, \"hovertext\": \"Sources: <br>Riahi et al. 2017, <i>Global Environmental Change</i><br>Rogeli et al. 2018, <i>Nature Climate Change</i>\", \"showarrow\": false, \"text\": \"<b>SSP 5.85: Fossil-fuelled development</b><br>Increasing reliance on a competitive, fossil fuel-driven <br>economy in a globally integrated market leads to a<br>rapid growth in the global economy. Populations peak<br>and subsequently decline in the 21st Century.<br>Av. Temp rise: > 5\\u00b0C<br>Paris goals reached: &#10060;\", \"x\": \"1955-12-31T00:00:00\", \"xanchor\": \"center\", \"y\": 115, \"yanchor\": \"top\"}]}], \"label\": \"SSP5.85\", \"method\": \"update\"}], \"direction\": \"left\", \"showactive\": true, \"type\": \"buttons\", \"x\": 0, \"xanchor\": \"left\", \"y\": 1.12, \"yanchor\": \"top\"}], \"width\": 1000, \"xaxis\": {\"showgrid\": false, \"tickcolor\": \"black\", \"ticklen\": 10, \"ticks\": \"inside\", \"tickwidth\": 1, \"zeroline\": false}, \"yaxis\": {\"showgrid\": true, \"tickcolor\": \"black\", \"ticklen\": 10, \"ticks\": \"inside\", \"tickwidth\": 1, \"title\": {\"text\": \"Gt CO2\"}, \"zeroline\": false}},                        {\"responsive\": true}                    ).then(function(){\n",
       "                            \n",
       "var gd = document.getElementById('64f3df8e-6e16-4ad1-b74f-8a4d22e23916');\n",
       "var x = new MutationObserver(function (mutations, observer) {{\n",
       "        var display = window.getComputedStyle(gd).display;\n",
       "        if (!display || display === 'none') {{\n",
       "            console.log([gd, 'removed!']);\n",
       "            Plotly.purge(gd);\n",
       "            observer.disconnect();\n",
       "        }}\n",
       "}});\n",
       "\n",
       "// Listen for the removal of the full notebook cells\n",
       "var notebookContainer = gd.closest('#notebook-container');\n",
       "if (notebookContainer) {{\n",
       "    x.observe(notebookContainer, {childList: true});\n",
       "}}\n",
       "\n",
       "// Listen for the clearing of the current output cell\n",
       "var outputEl = gd.closest('.output');\n",
       "if (outputEl) {{\n",
       "    x.observe(outputEl, {childList: true});\n",
       "}}\n",
       "\n",
       "                        })                };                });            </script>        </div>"
      ]
     },
     "metadata": {},
     "output_type": "display_data"
    }
   ],
   "source": [
    "fig = go.Figure()\n",
    "\n",
    "# Add mean temperature values\n",
    "fig.add_trace(go.Scatter(x=timespan_proj, y=ssp126, mode='lines', line=dict(color='blue', width=4), \n",
    "                         name='SSP1.26', hovertemplate='SSP1.26'))\n",
    "fig.add_trace(go.Scatter(x=timespan_proj, y=ssp245, mode='lines', line=dict(color='skyblue', width=4),\n",
    "                         name='SSP2.45', hovertemplate='SSP2.45'))\n",
    "fig.add_trace(go.Scatter(x=timespan_proj, y=ssp370, mode='lines', line=dict(color='goldenrod', width=4),\n",
    "                         name='SSP3.70', hovertemplate='SSP3.70'))\n",
    "fig.add_trace(go.Scatter(x=timespan_proj, y=ssp585, mode='lines', line=dict(color='red', width=4),\n",
    "                         name='SSP5.85', hovertemplate='SSP5.85'))\n",
    "\n",
    "\n",
    "# Add historical data\n",
    "fig.add_trace(go.Scatter(x=timespan_hist, y=historical, mode='lines', line=dict(color='black', width=4),\n",
    "                         name='historical', hovertemplate='historical'))\n",
    "\n",
    "\n",
    "# Add vertical line and format axis\n",
    "fig.add_vline(x=timespan_proj[0])\n",
    "fig.update_xaxes(showgrid=False, zeroline=False, ticks=\"inside\", \n",
    "                 tickwidth=1, tickcolor='black', ticklen=10)\n",
    "fig.update_yaxes(showgrid=True, zeroline=False, ticks=\"inside\", \n",
    "                 tickwidth=1, tickcolor='black', ticklen=10)\n",
    "fig.update_layout(legend_itemclick=False,\n",
    "                  legend_itemdoubleclick=False)\n",
    "\n",
    "\n",
    "\n",
    "\n",
    "# # Text for textbox which appears when pressing the scenario buttons\n",
    "ssp126_text = ('<b>SSP1.26: Sustainability</b><br>' \n",
    "               'A gradual, global shift to a path that addresses <br> equal and sustainable developments. <br> '\n",
    "               'Av. Temp rise: 1.7 – 1.8°C <br> '\n",
    "               'Paris goals reached: &#9989;'\n",
    "              )\n",
    "ssp245_text = ('<b>SSP2.45: Middle of the Road </b><br>'\n",
    "               'The global shift in terms of sustainable social,<br> '\n",
    "               'economic and technological trends are not very <br>'\n",
    "               'different from historical trends. <br>'\n",
    "               'Av. Temp rise: 2 – 3°C <br>'\n",
    "               'Paris goals reached: &#9989; / &#10060;'\n",
    "              )\n",
    "ssp370_text = ('<b>SSP3.70: Regional Rivalry</b><br> '\n",
    "               'Shift to increasing concern for national or regional<br>'\n",
    "               'policies with regards to energy and food security<br>'\n",
    "               'goals with material-intensive consumption. <br>'\n",
    "               'Av. Temp rise: 3 – 4°C <br>'\n",
    "               'Paris goals reached: &#10060;'\n",
    "              )\n",
    "ssp585_text = ('<b>SSP 5.85: Fossil-fuelled development</b><br>'\n",
    "               'Increasing reliance on a competitive, fossil fuel-driven <br>'\n",
    "               'economy in a globally integrated market leads to a<br>'\n",
    "               'rapid growth in the global economy. Populations peak<br>'\n",
    "               'and subsequently decline in the 21st Century.<br>'\n",
    "               'Av. Temp rise: > 5°C<br>'\n",
    "               'Paris goals reached: &#10060;'\n",
    "              )\n",
    "box_ref = ('Sources: <br>'\n",
    "           'Riahi et al. 2017, <i>Global Environmental Change</i><br>'\n",
    "           'Rogeli et al. 2018, <i>Nature Climate Change</i>'\n",
    "          )\n",
    "\n",
    "\n",
    "\n",
    "# Buttons\n",
    "fig.update_layout(\n",
    "    width=1000, height=550,\n",
    "    template=\"plotly_white\",\n",
    "    updatemenus=[\n",
    "        dict(\n",
    "            type=\"buttons\",\n",
    "            showactive=True,\n",
    "            direction = \"left\",\n",
    "            xanchor=\"left\", \n",
    "            yanchor=\"top\",\n",
    "            x=0,\n",
    "            y=1.12,\n",
    "\n",
    "            buttons=list(\n",
    "                [\n",
    "                    dict(\n",
    "                        label='all',\n",
    "                        method=\"update\",\n",
    "                        args=[{\"line.color\":['blue', 'skyblue', 'goldenrod', 'red', 'black'],\n",
    "                               \"opacity\":[1, 1, 1, 1,]},\n",
    "                              {\"annotations\":[]}\n",
    "                             ],\n",
    "                    ),                    \n",
    "                    dict(\n",
    "                        label='SSP1.26',\n",
    "                        method=\"update\",\n",
    "                        args=[{\"line.color\":['blue', 'gray', 'gray', 'gray', 'black'],\n",
    "                               \"opacity\":[1, 0.2, 0.2, 0.2, 1]},\n",
    "                               {\"annotations\":[dict(x=timespan_hist[55], y=115, \n",
    "                                                    xanchor='center',\n",
    "                                                    yanchor='top',\n",
    "                                                    text=ssp126_text, font=dict(size=11),\n",
    "                                                    showarrow=False, \n",
    "                                                    bordercolor=\"gray\",\n",
    "                                                    hovertext=box_ref,\n",
    "                                                    borderwidth=1, borderpad=4, \n",
    "                                                    bgcolor=c_alpha('white', 1))]}\n",
    "                             ]\n",
    "                    ),\n",
    "                    dict(\n",
    "                        label='SSP2.45',\n",
    "                        method=\"update\",\n",
    "                        args=[{\"line.color\":['gray', 'skyblue', 'gray', 'gray', 'black'],\n",
    "                               \"opacity\":[0.2, 1, 0.2, 0.2, 1]},\n",
    "                               {\"annotations\":[dict(x=timespan_hist[55], y=115, \n",
    "                                                    xanchor='center',\n",
    "                                                    yanchor='top',\n",
    "                                                    text=ssp245_text, font=dict(size=11),\n",
    "                                                    showarrow=False, \n",
    "                                                    bordercolor=\"gray\",\n",
    "                                                    hovertext=box_ref,\n",
    "                                                    borderwidth=1, borderpad=4, \n",
    "                                                    bgcolor=c_alpha('white', 1))]}\n",
    "                             ]\n",
    "                    ),\n",
    "                    dict(\n",
    "                        label='SSP3.74',\n",
    "                        method=\"update\",\n",
    "                        args=[{\"line.color\":['gray', 'gray', 'goldenrod', 'gray', 'black'],\n",
    "                               \"opacity\":[0.2, 0.2, 1, 0.2, 1]},\n",
    "                               {\"annotations\":[dict(x=timespan_hist[55], y=115, \n",
    "                                                    xanchor='center',\n",
    "                                                    yanchor='top',\n",
    "                                                    text=ssp370_text, font=dict(size=11),\n",
    "                                                    showarrow=False, \n",
    "#                                                     height=105,\n",
    "                                                    bordercolor=\"gray\",\n",
    "                                                    hovertext=box_ref,\n",
    "                                                    borderwidth=1, borderpad=4, \n",
    "                                                    bgcolor=c_alpha('white', 1))]}\n",
    "                             ]\n",
    "                    ),\n",
    "                    dict(\n",
    "                        label='SSP5.85',\n",
    "                        method=\"update\",\n",
    "                        args=[{\"line.color\":['gray', 'gray', 'gray', 'red', 'black'],\n",
    "                               \"opacity\":[0.2, 0.2, 0.2, 1, 1]},\n",
    "                               {\"annotations\":[dict(x=timespan_hist[55], y=115, \n",
    "                                                    xanchor='center',\n",
    "                                                    yanchor='top',\n",
    "                                                    text=ssp585_text, font=dict(size=11),\n",
    "#                                                     height=105,\n",
    "                                                    showarrow=False, \n",
    "                                                    bordercolor=\"gray\",\n",
    "                                                    hovertext=box_ref,\n",
    "                                                    borderwidth=1, borderpad=4, \n",
    "                                                    bgcolor=c_alpha('white', 1))]}\n",
    "                             ]\n",
    "                    ),\n",
    "                ]\n",
    "            ),\n",
    "        )\n",
    "        \n",
    "    ]\n",
    ")\n",
    "\n",
    "# Title\n",
    "fig.update_layout(\n",
    "    title={'text':\"Net annual CO2 emissions\", 'xanchor':'center', 'x':0.5, 'y':0.95},\n",
    "    yaxis_title=\"Gt CO2\",\n",
    "    font=dict(size=14,)\n",
    ")\n",
    "\n",
    "fig.write_html(\"CO2_emissions.html\")\n",
    "fig.show()"
   ]
  },
  {
   "cell_type": "markdown",
   "id": "d25ea8a5",
   "metadata": {},
   "source": []
  }
 ],
 "metadata": {
  "kernelspec": {
   "display_name": "Python 3",
   "language": "python",
   "name": "python3"
  },
  "language_info": {
   "codemirror_mode": {
    "name": "ipython",
    "version": 3
   },
   "file_extension": ".py",
   "mimetype": "text/x-python",
   "name": "python",
   "nbconvert_exporter": "python",
   "pygments_lexer": "ipython3",
   "version": "3.8.3"
  }
 },
 "nbformat": 4,
 "nbformat_minor": 5
}
