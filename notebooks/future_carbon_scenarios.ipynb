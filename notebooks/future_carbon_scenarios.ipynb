*This script creates the files used as input to "interactive_scenarios_CO2.ipynb"
{
 "cells": [
  {
   "cell_type": "code",
   "execution_count": null,
   "metadata": {},
   "outputs": [],
   "source": [
    "import iris\n",
    "import glob\n",
    "import netCDF4\n",
    "import numpy as np\n",
    "import os\n",
    "\n",
    "import matplotlib.pyplot as plt\n",
    "import numpy as np\n",
    "import geopandas as gpd\n",
    "import netCDF4\n",
    "from mpl_toolkits.basemap import Basemap\n",
    "from matplotlib.colors import Normalize\n",
    "#import geopy.distance.vincenty\n",
    "from shapely.geometry import Polygon\n",
    "import glob\n",
    "import xarray as xr\n",
    "\n",
    "files = glob.glob('/gws/pw/j05/cop26_hackathons/bristol/project08/co2_emiss/*nc')\n",
    "print(files)\n",
    "\n",
    "file = files[0]\n",
    "print(file)\n",
    "\n"
   ]
  },
  {
   "cell_type": "code",
   "execution_count": 2,
   "metadata": {},
   "outputs": [],
   "source": [
    "def comp_area_lat_lon(latvals,lonvals):\n",
    "    \"\"\"\n",
    "    Code adapted from Ana Bastos -Max Planck Institue for Biogeochemistry, Jena\n",
    "    This function will calculate the area of the gridpoints using the \n",
    "    latitude and longitudes of the dataset\n",
    "    input: latvals - a 1-D array of the latitudes \n",
    "         : lonvals - a 1-D array of the longitudes\n",
    "    \n",
    "    return: area - the area (in metres-squared) of the gridcells\"\"\"\n",
    "    #the radius of the Earth\n",
    "    radius = 6.37122e6 # in meters\n",
    "  \n",
    "    #remove single-dimensional entires from the shape of an array\n",
    "    lat=np.squeeze(latvals); lon=np.squeeze(lonvals)\n",
    "    #get the length of the long itude and latitude\n",
    "    nlat=len(lat)\n",
    "    nlon=len(lon)\n",
    "    \n",
    "    # LATITUDE\n",
    "    lat_edge=np.zeros((nlat+1))\n",
    "    lat_edge[0] = max(-90, lat[0]-0.5*(lat[1]-lat[0])); \n",
    "    lat_edge[1:nlat] = 0.5*(lat[0:nlat-1] + lat[1:nlat])\n",
    "    lat_edge[nlat] = min(90, lat[nlat-1]-0.5*(lat[nlat-2]-lat[nlat-1]))\n",
    "    #calculate the n-th discrete difference\n",
    "    dlat=np.diff(lat_edge)\n",
    "    \n",
    "    #LONGITUDE\n",
    "    lon_edge=np.zeros((nlon+1))\n",
    "    lon_edge[0] = lon[0]-0.5*(lon[1]-lon[0])\n",
    "    lon_edge[1:nlon] = 0.5*(lon[0:nlon-1] + lon[1:nlon])\n",
    "    lon_edge[nlon] = lon[nlon-1]-0.5*(lon[nlon-2]-lon[nlon-1])\n",
    "    dlon=np.diff(lon_edge)\n",
    "    \n",
    "    dlon_2d, dlat_2d = np.meshgrid(dlon,dlat) # create mesh with cell size in deg    \n",
    "    lon_2d, lat_2d = np.meshgrid(lon, lat)\n",
    "\n",
    "    #convert latitudes to radians\n",
    "    dy = radius * (dlat_2d * (np.pi/180.0)) \n",
    "    dx = radius * np.multiply(dlon_2d * (np.pi/180.0),np.cos(lat_2d * (np.pi/180.0)))\n",
    "\n",
    "    area = np.multiply(dx , dy)\n",
    "    if np.sum(area)<0:\n",
    "        area=-1*area\n",
    "\n",
    "    return area\n"
   ]
  },
  {
   "cell_type": "code",
   "execution_count": 8,
   "metadata": {},
   "outputs": [],
   "source": [
    "def calc_future_carbon(file, scenario_str):\n",
    "    \n",
    "    \"\"\" \n",
    "    This script takes a netCDF file name with its directory of CO2 SSP emission scenarios to calculate the mean annual emissions in GtCO2.\n",
    "    Input: file - NetCDf file string + directoy\n",
    "         : scenario_str - the name of the emissions scenario as a string to name the csv file at the end\n",
    "         \n",
    "    Return: No return, but a csv file is created with the mean annual CO2 emissions under the respective scenario. \n",
    "    \"\"\"\n",
    "    \n",
    "    # read in data as netcdf to extract lat and lon > threw an error when I tried with xarray for some reason\n",
    "    f1 = netCDF4.Dataset(file)\n",
    "    lon = f1.variables[\"lon\"]\n",
    "    lonvals = lon[:]\n",
    "    lat = f1.variables[\"lat\"]\n",
    "    latvals = lat[:]\n",
    "    time = f1.variables[\"time\"][:]\n",
    "    \n",
    "    grid_area=comp_area_lat_lon(latvals,lonvals)\n",
    "    \n",
    "    #read in and extract data\n",
    "    dataset = xr.open_dataset(file)\n",
    "    carbon = dataset[\"CO2_em_anthro\"]\n",
    "    \n",
    "    #sum across ALL sectors\n",
    "    all_carbon = carbon.sum(dim=\"sector\")\n",
    "    all_carbon.sizes\n",
    "    \n",
    "    #convert time to xarray readable \n",
    "    all_carbon[\"time\"]=xr.CFTimeIndex.to_datetimeindex(all_carbon[\"time\"])\n",
    "    all_carbon.sizes\n",
    "    \n",
    "    #multiply data (units: kg/m2/s of CO2) into kg/s of CO2\n",
    "    all_carbon2 = all_carbon*grid_area\n",
    "    all_carbon2.sizes\n",
    "    all_carbon2\n",
    "    # get global total\n",
    "    all_carbon3 = all_carbon2.sum(dim=[\"lat\", \"lon\"])\n",
    "    \n",
    "    #resample the monthly data to annual data by MEAN - because data is still in kg/s and in the next line we will convert to annual data. \n",
    "    all_carbon4 = all_carbon3.resample(time=\"1Y\").mean()\n",
    "\n",
    "    #convert kg to GtCO2\n",
    "\n",
    "    all_carbon5 = all_carbon4*60*60*24*365*1e-12 #convert kg/s > GtCO2 per year. \n",
    "    filename = scenario_str + \"_v2.csv\"\n",
    "    all_carbon5.to_pandas().to_csv(filename)\n",
    "    print(\"finished\")\n",
    "\n",
    "    \n",
    "    \n",
    "    "
   ]
  },
  {
   "cell_type": "code",
   "execution_count": 4,
   "metadata": {},
   "outputs": [
    {
     "name": "stdout",
     "output_type": "stream",
     "text": [
      "('sector', 'time', 'lat', 'lon')\n"
     ]
    },
    {
     "name": "stderr",
     "output_type": "stream",
     "text": [
      "/opt/jaspy/lib/python3.7/site-packages/xarray/coding/cftimeindex.py:434: RuntimeWarning: Converting a CFTimeIndex with dates from a non-standard calendar, 'noleap', to a pandas.DatetimeIndex, which uses dates from the standard calendar.  This may lead to subtle errors in operations that depend on the length of time between dates.\n",
      "  'dates.'.format(calendar), RuntimeWarning)\n"
     ]
    },
    {
     "name": "stdout",
     "output_type": "stream",
     "text": [
      "finished\n"
     ]
    }
   ],
   "source": [
    "#apply function across the 4 SSP scenarios \n",
    "import xarray as xr\n",
    "file = files[0]\n",
    "calc_future_carbon(file, \"ssp370\")"
   ]
  },
  {
   "cell_type": "code",
   "execution_count": 5,
   "metadata": {},
   "outputs": [
    {
     "name": "stdout",
     "output_type": "stream",
     "text": [
      "/gws/pw/j05/cop26_hackathons/bristol/project08/co2_emiss/CO2-em-anthro_input4MIPs_emissions_ScenarioMIP_IAMC-IMAGE-ssp126-1-1_gn_201501-210012.nc\n",
      "('sector', 'time', 'lat', 'lon')\n",
      "finished\n"
     ]
    }
   ],
   "source": [
    "file = files[2]\n",
    "print(file)\n",
    "calc_future_carbon(file, \"ssp126\")"
   ]
  },
  {
   "cell_type": "code",
   "execution_count": 6,
   "metadata": {},
   "outputs": [
    {
     "name": "stdout",
     "output_type": "stream",
     "text": [
      "/gws/pw/j05/cop26_hackathons/bristol/project08/co2_emiss/CO2-em-anthro_input4MIPs_emissions_ScenarioMIP_IAMC-MESSAGE-GLOBIOM-ssp245-1-1_gn_201501-210012.nc\n",
      "('sector', 'time', 'lat', 'lon')\n",
      "finished\n"
     ]
    }
   ],
   "source": [
    "file = files[3]\n",
    "print(file)\n",
    "calc_future_carbon(file, \"ssp245\")"
   ]
  },
  {
   "cell_type": "code",
   "execution_count": 7,
   "metadata": {},
   "outputs": [
    {
     "name": "stdout",
     "output_type": "stream",
     "text": [
      "/gws/pw/j05/cop26_hackathons/bristol/project08/co2_emiss/CO2-em-anthro_input4MIPs_emissions_ScenarioMIP_IAMC-REMIND-MAGPIE-ssp585-1-1_gn_201501-210012.nc\n",
      "('sector', 'time', 'lat', 'lon')\n",
      "finished\n"
     ]
    }
   ],
   "source": [
    "file = files[4]\n",
    "print(file)\n",
    "calc_future_carbon(file, \"ssp585\")"
   ]
  },
  {
   "cell_type": "code",
   "execution_count": null,
   "metadata": {},
   "outputs": [],
   "source": []
  }
 ],
 "metadata": {
  "kernelspec": {
   "display_name": "Python 3 + Jaspy",
   "language": "python",
   "name": "jaspy"
  },
  "language_info": {
   "codemirror_mode": {
    "name": "ipython",
    "version": 3
   },
   "file_extension": ".py",
   "mimetype": "text/x-python",
   "name": "python",
   "nbconvert_exporter": "python",
   "pygments_lexer": "ipython3",
   "version": "3.7.1"
  }
 },
 "nbformat": 4,
 "nbformat_minor": 4
}
