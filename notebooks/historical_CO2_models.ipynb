{
 "cells": [
  {
   "cell_type": "code",
   "execution_count": 2,
   "metadata": {},
   "outputs": [],
   "source": [
    "import iris\n",
    "import glob\n",
    "import netCDF4\n",
    "import numpy as np\n",
    "import os\n",
    "import xarray as xr"
   ]
  },
  {
   "cell_type": "code",
   "execution_count": 3,
   "metadata": {},
   "outputs": [
    {
     "name": "stdout",
     "output_type": "stream",
     "text": [
      "['/gws/pw/j05/cop26_hackathons/bristol/project08/co2_emiss/raw_files_hist/CO2-em-anthro_input4MIPs_emissions_CMIP_CEDS-2017-05-18_gn_175001-179912.nc', '/gws/pw/j05/cop26_hackathons/bristol/project08/co2_emiss/raw_files_hist/CO2-em-anthro_input4MIPs_emissions_CMIP_CEDS-2017-05-18_gn_180001-184912.nc', '/gws/pw/j05/cop26_hackathons/bristol/project08/co2_emiss/raw_files_hist/CO2-em-anthro_input4MIPs_emissions_CMIP_CEDS-2017-05-18_gn_185001-185012.nc', '/gws/pw/j05/cop26_hackathons/bristol/project08/co2_emiss/raw_files_hist/CO2-em-anthro_input4MIPs_emissions_CMIP_CEDS-2017-05-18_gn_185101-189912.nc', '/gws/pw/j05/cop26_hackathons/bristol/project08/co2_emiss/raw_files_hist/CO2-em-anthro_input4MIPs_emissions_CMIP_CEDS-2017-05-18_gn_190001-194912.nc', '/gws/pw/j05/cop26_hackathons/bristol/project08/co2_emiss/raw_files_hist/CO2-em-anthro_input4MIPs_emissions_CMIP_CEDS-2017-05-18_gn_195001-199912.nc', '/gws/pw/j05/cop26_hackathons/bristol/project08/co2_emiss/raw_files_hist/CO2-em-anthro_input4MIPs_emissions_CMIP_CEDS-2017-05-18_gn_200001-201412.nc']\n",
      "/gws/pw/j05/cop26_hackathons/bristol/project08/co2_emiss/raw_files_hist/CO2-em-anthro_input4MIPs_emissions_CMIP_CEDS-2017-05-18_gn_175001-179912.nc\n"
     ]
    }
   ],
   "source": [
    "files = glob.glob('/gws/pw/j05/cop26_hackathons/bristol/project08/co2_emiss/raw_files_hist/*nc')\n",
    "print(files)\n",
    "\n",
    "file = files[0]\n",
    "print(file)"
   ]
  },
  {
   "cell_type": "code",
   "execution_count": 4,
   "metadata": {},
   "outputs": [],
   "source": [
    "def global_monthly_sum(in_cube):\n",
    "    # Global area weighted TOTAL CO2 emissions\n",
    "    cube = in_cube.copy()\n",
    "    if not cube.coord('latitude').has_bounds():\n",
    "        cube.coord('latitude').guess_bounds()\n",
    "    if not cube.coord('longitude').has_bounds():\n",
    "        cube.coord('longitude').guess_bounds()\n",
    "    grid_areas = iris.analysis.cartography.area_weights(cube)\n",
    "    cube = cube.collapsed(['longitude', 'latitude', 'sector'], iris.analysis.SUM, weights=grid_areas)\n",
    "    return cube, grid_areas\n",
    "\n",
    "def comp_area_lat_lon(latvals,lonvals):\n",
    "    \"\"\"\n",
    "    Code adapted from Ana Bastos -Max Planck Institue for Biogeochemistry, Jena\n",
    "    This function will calculate the area of the gridpoints using the \n",
    "    latitude and longitudes of the dataset\n",
    "    input: latvals - a 1-D array of the latitudes \n",
    "         : lonvals - a 1-D array of the longitudes\n",
    "    \n",
    "    return: area - the area (in metres-squared) of the gridcells\"\"\"\n",
    "    #the radius of the Earth\n",
    "    radius = 6.37122e6 # in meters\n",
    "  \n",
    "    #remove single-dimensional entires from the shape of an array\n",
    "    lat=np.squeeze(latvals); lon=np.squeeze(lonvals)\n",
    "    #get the length of the long itude and latitude\n",
    "    nlat=len(lat)\n",
    "    nlon=len(lon)\n",
    "    \n",
    "    # LATITUDE\n",
    "    lat_edge=np.zeros((nlat+1))\n",
    "    lat_edge[0] = max(-90, lat[0]-0.5*(lat[1]-lat[0])); \n",
    "    lat_edge[1:nlat] = 0.5*(lat[0:nlat-1] + lat[1:nlat])\n",
    "    lat_edge[nlat] = min(90, lat[nlat-1]-0.5*(lat[nlat-2]-lat[nlat-1]))\n",
    "    #calculate the n-th discrete difference\n",
    "    dlat=np.diff(lat_edge)\n",
    "    \n",
    "    #LONGITUDE\n",
    "    lon_edge=np.zeros((nlon+1))\n",
    "    lon_edge[0] = lon[0]-0.5*(lon[1]-lon[0])\n",
    "    lon_edge[1:nlon] = 0.5*(lon[0:nlon-1] + lon[1:nlon])\n",
    "    lon_edge[nlon] = lon[nlon-1]-0.5*(lon[nlon-2]-lon[nlon-1])\n",
    "    dlon=np.diff(lon_edge)\n",
    "    \n",
    "    dlon_2d, dlat_2d = np.meshgrid(dlon,dlat) # create mesh with cell size in deg    \n",
    "    lon_2d, lat_2d = np.meshgrid(lon, lat)\n",
    "\n",
    "    #convert latitudes to radians\n",
    "    dy = radius * (dlat_2d * (np.pi/180.0)) \n",
    "    dx = radius * np.multiply(dlon_2d * (np.pi/180.0),np.cos(lat_2d * (np.pi/180.0)))\n",
    "\n",
    "    area = np.multiply(dx , dy)\n",
    "    if np.sum(area)<0:\n",
    "        area=-1*area\n",
    "\n",
    "    return area\n"
   ]
  },
  {
   "cell_type": "code",
   "execution_count": null,
   "metadata": {},
   "outputs": [
    {
     "name": "stderr",
     "output_type": "stream",
     "text": [
      "/opt/jaspy/lib/python3.7/site-packages/iris/analysis/cartography.py:394: UserWarning: Using DEFAULT_SPHERICAL_EARTH_RADIUS.\n",
      "  warnings.warn(\"Using DEFAULT_SPHERICAL_EARTH_RADIUS.\")\n"
     ]
    }
   ],
   "source": [
    "f1 = global_monthly_sum(iris.load_cube(file))"
   ]
  },
  {
   "cell_type": "code",
   "execution_count": null,
   "metadata": {},
   "outputs": [],
   "source": [
    "f1 = netCDF4.Dataset(file)\n",
    "lon = f1.variables[\"lon\"]\n",
    "lonvals = lon[:]\n",
    "lat = f1.variables[\"lat\"]\n",
    "latvals = lat[:]\n",
    "time = f1.variables[\"time\"][:]\n",
    "\n",
    "carbon = f1.variables[\"CO2_em_anthro\"]\n",
    "print(carbon.dimensions)"
   ]
  },
  {
   "cell_type": "code",
   "execution_count": null,
   "metadata": {},
   "outputs": [],
   "source": [
    "grid_area=comp_area_lat_lon(latvals,lonvals)"
   ]
  },
  {
   "cell_type": "code",
   "execution_count": null,
   "metadata": {},
   "outputs": [],
   "source": [
    "grid_area"
   ]
  },
  {
   "cell_type": "code",
   "execution_count": null,
   "metadata": {},
   "outputs": [],
   "source": [
    "dataset = xr.open_mfdataset('/gws/pw/j05/cop26_hackathons/bristol/project08/co2_emiss/raw_files_hist/*nc')"
   ]
  },
  {
   "cell_type": "code",
   "execution_count": null,
   "metadata": {},
   "outputs": [],
   "source": [
    "carbon = dataset[\"CO2_em_anthro\"]"
   ]
  },
  {
   "cell_type": "code",
   "execution_count": null,
   "metadata": {},
   "outputs": [],
   "source": [
    "all_carbon = carbon.sum(dim=\"sector\")"
   ]
  },
  {
   "cell_type": "code",
   "execution_count": null,
   "metadata": {},
   "outputs": [],
   "source": [
    "all_carbon.sizes"
   ]
  },
  {
   "cell_type": "code",
   "execution_count": null,
   "metadata": {},
   "outputs": [],
   "source": [
    "lon = all_carbon[\"lon\"][:]\n",
    "print(len(lon))\n",
    "lat = all_carbon[\"lat\"][:]\n",
    "print(len(lat))\n",
    "grid_area=comp_area_lat_lon(latvals,lonvals)\n",
    "grid_area.shape"
   ]
  },
  {
   "cell_type": "code",
   "execution_count": null,
   "metadata": {},
   "outputs": [],
   "source": [
    "all_carbon[\"time\"]=xr.CFTimeIndex.to_datetimeindex(all_carbon[\"time\"])\n",
    "all_carbon.sizes"
   ]
  },
  {
   "cell_type": "code",
   "execution_count": null,
   "metadata": {},
   "outputs": [],
   "source": [
    "all_carbon2 = all_carbon*grid_area\n",
    "all_carbon2.sizes\n",
    "all_carbon2"
   ]
  },
  {
   "cell_type": "code",
   "execution_count": null,
   "metadata": {},
   "outputs": [],
   "source": [
    "all_carbon3 = all_carbon2.sum(dim=[\"lat\", \"lon\"])"
   ]
  },
  {
   "cell_type": "code",
   "execution_count": null,
   "metadata": {},
   "outputs": [],
   "source": [
    "all_carbon3.sizes"
   ]
  },
  {
   "cell_type": "code",
   "execution_count": null,
   "metadata": {},
   "outputs": [],
   "source": [
    "all_carbon4 = all_carbon3.resample(time=\"1Y\").mean() # we take the mean here because in the next line we are converting seconds > years\n",
    "\n",
    "#convert kg to GtCO2\n",
    "\n",
    "all_carbon5 = all_carbon4*60*60*24*365*1e-12 # *(44/12)> the ipcc figure is in GtC not CO2.\n",
    "all_carbon5.to_pandas().to_csv(\"annual_carbon_V2.csv\")\n"
   ]
  }
 ],
 "metadata": {
  "kernelspec": {
   "display_name": "Python 3 + Jaspy",
   "language": "python",
   "name": "jaspy"
  },
  "language_info": {
   "codemirror_mode": {
    "name": "ipython",
    "version": 3
   },
   "file_extension": ".py",
   "mimetype": "text/x-python",
   "name": "python",
   "nbconvert_exporter": "python",
   "pygments_lexer": "ipython3",
   "version": "3.7.1"
  }
 },
 "nbformat": 4,
 "nbformat_minor": 4
}
